{
 "cells": [
  {
   "cell_type": "code",
   "execution_count": null,
   "id": "152e4c87-3502-45b3-a425-12af9d945b77",
   "metadata": {},
   "outputs": [],
   "source": [
    "import kagglehub\n",
    "\n",
    "path = kagglehub.dataset_download(\"sulianova/cardiovascular-disease-dataset\")\n",
    "\n",
    "print(\"Path to dataset files:\", path)"
   ]
  },
  {
   "cell_type": "markdown",
   "id": "a96f1687-4fa6-4eaa-a4cf-b1211dc3bc28",
   "metadata": {},
   "source": [
    "## Importing the required modules"
   ]
  },
  {
   "cell_type": "code",
   "execution_count": 120,
   "id": "d941db5e-e8b0-4840-a491-8bc3abfe97ff",
   "metadata": {},
   "outputs": [],
   "source": [
    "import torch\n",
    "import torch.nn as nn\n",
    "import torch.optim as optim\n",
    "from sklearn.model_selection import train_test_split\n",
    "from sklearn.preprocessing import StandardScaler\n",
    "import pandas as pd\n",
    "from torch.utils.data import DataLoader, TensorDataset\n",
    "from sklearn.metrics import accuracy_score, precision_score, f1_score, confusion_matrix, ConfusionMatrixDisplay\n",
    "import matplotlib.pyplot as plt"
   ]
  },
  {
   "cell_type": "markdown",
   "id": "363b004a-3cb3-49d3-8ccc-316adb75010c",
   "metadata": {},
   "source": [
    "## Reading the dataset and preprocessing it"
   ]
  },
  {
   "cell_type": "code",
   "execution_count": 118,
   "id": "efaaf8d2-29dc-4a80-8778-067eb1e283b4",
   "metadata": {},
   "outputs": [],
   "source": [
    "df = pd.read_csv(\"cardio_train.csv\",sep=';')\n",
    "df.dropna(inplace=True)"
   ]
  },
  {
   "cell_type": "code",
   "execution_count": 110,
   "id": "d5838fcf-9262-4a31-83ef-75a1b19a9f80",
   "metadata": {},
   "outputs": [
    {
     "name": "stdout",
     "output_type": "stream",
     "text": [
      "(70000, 16)\n"
     ]
    }
   ],
   "source": [
    "x = df[[\"age\", \"gender\", \"height\", \"weight\", \"ap_hi\", \"ap_lo\", \"cholesterol\", \"gluc\", \"smoke\", \"active\", \"alco\"]]\n",
    "y = df[[\"cardio\"]].values\n",
    "x = pd.get_dummies(x, columns=[\"cholesterol\", \"gluc\", \"gender\"]).astype(int)\n",
    "print(x.shape)"
   ]
  },
  {
   "cell_type": "code",
   "execution_count": 88,
   "id": "dc643cad-58df-4e8d-a150-50d952a977d2",
   "metadata": {},
   "outputs": [],
   "source": [
    "x_train, x_test, y_train, y_test = train_test_split(x, y, test_size=0.2, random_state=42)\n",
    "scaler = StandardScaler()\n",
    "x_train = scaler.fit_transform(x_train)\n",
    "x_test = scaler.transform(x_test)\n",
    "\n",
    "x_train = torch.tensor(x_train, dtype=torch.float32)\n",
    "x_test = torch.tensor(x_test, dtype=torch.float32)\n",
    "y_train = torch.tensor(y_train, dtype=torch.float32)\n",
    "y_test = torch.tensor(y_test, dtype=torch.float32)\n",
    "\n",
    "import pickle\n",
    "with open(\"scaler.pkl\", 'wb') as fl:\n",
    "    fl.write(pickle.dumps(scaler))"
   ]
  },
  {
   "cell_type": "markdown",
   "id": "e2e2f238-c4f2-4fd1-87d5-410f0d8f3b31",
   "metadata": {},
   "source": [
    "## Defining the model"
   ]
  },
  {
   "cell_type": "code",
   "execution_count": 89,
   "id": "20ff1c01-cd72-46c3-a24e-ff69d81d9847",
   "metadata": {},
   "outputs": [],
   "source": [
    "class HeartModel(nn.Module):\n",
    "    def __init__(self):\n",
    "        super(HeartModel, self).__init__()\n",
    "        self.fc1 = nn.Linear(16, 64)\n",
    "        self.fc2 = nn.Linear(64, 128)\n",
    "        self.fc3 = nn.Linear(128, 256)\n",
    "        self.fc4 = nn.Linear(256, 512)\n",
    "        self.fc5 = nn.Linear(512, 256)\n",
    "        self.fc6 = nn.Linear(256, 128)\n",
    "        self.fc7 = nn.Linear(128, 64)\n",
    "        self.fc8 = nn.Linear(64, 1)\n",
    "    def forward(self, x):\n",
    "        x = torch.relu(self.fc1(x))\n",
    "        x = torch.relu(self.fc2(x))\n",
    "        x = torch.relu(self.fc3(x))\n",
    "        x = torch.relu(self.fc4(x))\n",
    "        x = torch.relu(self.fc5(x))\n",
    "        x = torch.relu(self.fc6(x))\n",
    "        x = torch.relu(self.fc7(x))\n",
    "        x = self.fc8(x)\n",
    "        return x"
   ]
  },
  {
   "cell_type": "markdown",
   "id": "5b2fe293-c683-4ad6-8d8b-b692e5d3d2c9",
   "metadata": {},
   "source": [
    "## Training the model"
   ]
  },
  {
   "cell_type": "code",
   "execution_count": 76,
   "id": "60a7ff26-21fd-482e-9469-43a2b2e40c26",
   "metadata": {},
   "outputs": [
    {
     "name": "stdout",
     "output_type": "stream",
     "text": [
      "Epoch 10, Loss: 0.6650\n",
      "Epoch 20, Loss: 0.6299\n",
      "Epoch 30, Loss: 0.6162\n",
      "Epoch 40, Loss: 0.6080\n",
      "Epoch 50, Loss: 0.5811\n",
      "Epoch 60, Loss: 0.5671\n",
      "Epoch 70, Loss: 0.5601\n",
      "Epoch 80, Loss: 0.5525\n",
      "Epoch 90, Loss: 0.5493\n",
      "Epoch 100, Loss: 0.5450\n",
      "Epoch 110, Loss: 0.5425\n",
      "Epoch 120, Loss: 0.5412\n",
      "Epoch 130, Loss: 0.5407\n",
      "Epoch 140, Loss: 0.5374\n",
      "Epoch 150, Loss: 0.5359\n"
     ]
    }
   ],
   "source": [
    "model = HeartModel()\n",
    "\n",
    "loss_function = nn.BCEWithLogitsLoss()\n",
    "optimizer = optim.Adam(model.parameters(), lr=0.001)\n",
    "\n",
    "epochs = 150\n",
    "\n",
    "for epoch in range(epochs):\n",
    "    model.train()\n",
    "    optimizer.zero_grad()\n",
    "    logits = model(x_train)\n",
    "    loss = loss_function(logits, y_train)\n",
    "    loss.backward()\n",
    "    optimizer.step()\n",
    "    if (epoch+1)%10 == 0:\n",
    "        print(f\"Epoch {epoch+1}, Loss: {loss.item():.4f}\")"
   ]
  },
  {
   "cell_type": "markdown",
   "id": "622926ef-08c6-45cb-8f9e-3647462c649c",
   "metadata": {},
   "source": [
    "## Evaluating it by making predictions"
   ]
  },
  {
   "cell_type": "code",
   "execution_count": 105,
   "id": "6830753f-09ea-4244-9284-570e5ed6ab38",
   "metadata": {},
   "outputs": [
    {
     "name": "stdout",
     "output_type": "stream",
     "text": [
      "Accuracy: 73.37%\n",
      "Precision: 74.88%\n",
      "F1-score: 0.7261\n"
     ]
    }
   ],
   "source": [
    "model.eval()\n",
    "\n",
    "with torch.no_grad():\n",
    "    logits_test = model(x_test)\n",
    "    predictions = torch.sigmoid(logits_test)\n",
    "    predictions = (predictions > 0.5).float()\n",
    "    \n",
    "accuracy = accuracy_score(y_test, predictions)\n",
    "print(f\"Accuracy: {accuracy * 100:.2f}%\")\n",
    "\n",
    "precision = precision_score(y_test.numpy(), predictions.numpy())\n",
    "print(f\"Precision: {precision * 100:.2f}%\")\n",
    "\n",
    "f1 = f1_score(y_test.numpy(), predictions.numpy())\n",
    "print(f\"F1-score: {f1:.4f}\")"
   ]
  },
  {
   "cell_type": "markdown",
   "id": "e5eb28b7-9660-4fb1-b6b9-31edbe46c44f",
   "metadata": {},
   "source": [
    "## Saving the model"
   ]
  },
  {
   "cell_type": "code",
   "execution_count": null,
   "id": "0c3609eb-3d7d-4d87-9e6a-53f4b0ab3d54",
   "metadata": {},
   "outputs": [],
   "source": [
    "torch.save(model, 'model.pth')"
   ]
  },
  {
   "cell_type": "markdown",
   "id": "1bcc2e79-7392-4c41-9555-febbdd2f194d",
   "metadata": {},
   "source": [
    "## Plotting the confusion matrix"
   ]
  },
  {
   "cell_type": "code",
   "execution_count": 121,
   "id": "ce166514-3346-4619-bb02-471b09b70540",
   "metadata": {},
   "outputs": [
    {
     "data": {
      "image/png": "[encoded data removed]",
      "text/plain": [
       "<Figure size 640x480 with 2 Axes>"
      ]
     },
     "metadata": {},
     "output_type": "display_data"
    }
   ],
   "source": [
    "cm = confusion_matrix(y_test.numpy(), predictions.numpy())\n",
    "disp = ConfusionMatrixDisplay(confusion_matrix=cm, display_labels=['No Disease', 'Disease'])\n",
    "disp.plot(cmap='Blues')\n",
    "plt.title(\"Confusion Matrix\")\n",
    "plt.show()\n"
   ]
  }
 ],
 "metadata": {
  "kernelspec": {
   "display_name": ".venv-aiml-l1",
   "language": "python",
   "name": ".venv-aiml-l1"
  },
  "language_info": {
   "codemirror_mode": {
    "name": "ipython",
    "version": 3
   },
   "file_extension": ".py",
   "mimetype": "text/x-python",
   "name": "python",
   "nbconvert_exporter": "python",
   "pygments_lexer": "ipython3",
   "version": "3.9.13"
  }
 },
 "nbformat": 4,
 "nbformat_minor": 5
}
